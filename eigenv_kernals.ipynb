{
 "cells": [
  {
   "cell_type": "markdown",
   "metadata": {
    "id": "yMWjY9vP34sU"
   },
   "source": [
    "# CS534 Machine Learning - Spring 2020\n",
    "**Midterm (120+10 points) - Submitted by: Michael Wendell**"
   ]
  },
  {
   "cell_type": "code",
   "execution_count": 21,
   "metadata": {},
   "outputs": [],
   "source": [
    "#needed classes\n",
    "import numpy as np\n",
    "import pandas as pd\n",
    "import seaborn as sns\n",
    "from sklearn.linear_model import LogisticRegression\n",
    "from sklearn.svm import SVC\n",
    "from sklearn.model_selection import train_test_split\n",
    "from sklearn.metrics import accuracy_score\n",
    "import matplotlib.pyplot as plt"
   ]
  },
  {
   "cell_type": "markdown",
   "metadata": {
    "id": "toRllHDC4Ej0"
   },
   "source": [
    "Question 1 (20 points): Design and implement an approach using power method to determine the first dimension of the PCA transformation (do not use scikit-learn library and SVD decomponsition)."
   ]
  },
  {
   "cell_type": "code",
   "execution_count": 22,
   "metadata": {},
   "outputs": [],
   "source": [
    "#determine the eigenvalue through eq\n",
    "def eigenvalue(A, v):\n",
    "    Av = A.dot(v)\n",
    "    return v.dot(Av)\n",
    "\n",
    "#calls power method on array A\n",
    "def power_method(A):\n",
    "    \n",
    "    n, dim = A.shape\n",
    "    vectors = np.ones(dim) / np.sqrt(dim)\n",
    "    \n",
    "    ev = eigenvalue(A, vectors)\n",
    "\n",
    "    #finds new eigenvalue until epsilon is less than .01 or 100 iterations\n",
    "    for i in range(100):\n",
    "        Av = A.dot(vectors)\n",
    "        vec_new = Av / np.linalg.norm(Av)\n",
    "        ev_new = eigenvalue(A, vec_new)\n",
    "        \n",
    "        #breaks if epsilon is too small\n",
    "        if np.abs(ev - ev_new) < 0.01:\n",
    "            break\n",
    "\n",
    "        vecotors = vec_new\n",
    "        ev = ev_new\n",
    "\n",
    "    return ev_new, vec_new"
   ]
  },
  {
   "cell_type": "code",
   "execution_count": 23,
   "metadata": {},
   "outputs": [
    {
     "name": "stdout",
     "output_type": "stream",
     "text": [
      "eigenvalue: 5.344827586206896 \n",
      "eigenvectors: [0.3939193  0.91914503]\n"
     ]
    }
   ],
   "source": [
    "A = np.array([[1, 2], [3, 4]])\n",
    "ev, vec = power_method(A)\n",
    "print(\"eigenvalue:\", ev, \"\\neigenvectors:\", vec)"
   ]
  },
  {
   "cell_type": "markdown",
   "metadata": {
    "id": "OQLgDLn94loD"
   },
   "source": [
    "Question 2 (20 points): Design and implement an approcch to determine the second dimension of the PCA transformation (do not use scikit-learn library and SVD decomponsition). "
   ]
  },
  {
   "cell_type": "code",
   "execution_count": 24,
   "metadata": {},
   "outputs": [
    {
     "name": "stdout",
     "output_type": "stream",
     "text": [
      "eigenvalue: 0.10492155769690159 \n",
      "eigenvectors: [-0.81696786  0.5766832 ]\n"
     ]
    }
   ],
   "source": [
    "#the second eigenvector can be found by removing the first from the matrix and then using the power method again.\n",
    "A_2 =  A - ev * vec * vec.T\n",
    "ev_2, vec_2 = power_method(A_2)\n",
    "print(\"eigenvalue:\", ev_2, \"\\neigenvectors:\", vec_2)"
   ]
  },
  {
   "cell_type": "markdown",
   "metadata": {
    "id": "MzeRDiZy5PD-"
   },
   "source": [
    "Extra Credit (10 points): Design and implement a gradient approach to determine the first and second dimension of the PCA transformation by using a gradient optimization approach (compute derivatives). Suggestion optimize the Lagrange function."
   ]
  },
  {
   "cell_type": "code",
   "execution_count": null,
   "metadata": {},
   "outputs": [],
   "source": []
  },
  {
   "cell_type": "markdown",
   "metadata": {
    "id": "RdUa0f6459R5"
   },
   "source": [
    "Question 3 (10 points): Describe the benefit of the power method w.r.t. the SVD approach for the PCA transformation."
   ]
  },
  {
   "cell_type": "markdown",
   "metadata": {},
   "source": [
    "The power method allows us to apply PCA in a simple way by iterating matrixes to approxamiate the eigenvalues and vectors of a matrix and then getting the principal compenents from it. The big difference between PCA and SVD is that PCA will ignore less signifigant components and focus on the larger eigenvalues. SVD decomposses all the values into independent featurer matrixes."
   ]
  },
  {
   "cell_type": "markdown",
   "metadata": {
    "id": "hmYxbnjm6LKQ"
   },
   "source": [
    "Question 4 (20 points): By using a binary classifier (logistic regression or SVM) please implement in python. the 2 different procedures (one vs. one, one vs. rest) to handle the problem of more than two different classes (use the iris dataset). Do not use scikit-learn library for the main procedures, but you can use scikit-learn library for the binary logistic regression and SVM. For reference use the following link\n",
    "https://en.wikipedia.org/wiki/Multiclass_classification"
   ]
  },
  {
   "cell_type": "code",
   "execution_count": 25,
   "metadata": {},
   "outputs": [
    {
     "data": {
      "text/html": [
       "<div>\n",
       "<style scoped>\n",
       "    .dataframe tbody tr th:only-of-type {\n",
       "        vertical-align: middle;\n",
       "    }\n",
       "\n",
       "    .dataframe tbody tr th {\n",
       "        vertical-align: top;\n",
       "    }\n",
       "\n",
       "    .dataframe thead th {\n",
       "        text-align: right;\n",
       "    }\n",
       "</style>\n",
       "<table border=\"1\" class=\"dataframe\">\n",
       "  <thead>\n",
       "    <tr style=\"text-align: right;\">\n",
       "      <th></th>\n",
       "      <th>sepal_length</th>\n",
       "      <th>sepal_width</th>\n",
       "      <th>petal_length</th>\n",
       "      <th>petal_width</th>\n",
       "      <th>species</th>\n",
       "    </tr>\n",
       "  </thead>\n",
       "  <tbody>\n",
       "    <tr>\n",
       "      <th>0</th>\n",
       "      <td>5.1</td>\n",
       "      <td>3.5</td>\n",
       "      <td>1.4</td>\n",
       "      <td>0.2</td>\n",
       "      <td>setosa</td>\n",
       "    </tr>\n",
       "    <tr>\n",
       "      <th>1</th>\n",
       "      <td>4.9</td>\n",
       "      <td>3.0</td>\n",
       "      <td>1.4</td>\n",
       "      <td>0.2</td>\n",
       "      <td>setosa</td>\n",
       "    </tr>\n",
       "    <tr>\n",
       "      <th>2</th>\n",
       "      <td>4.7</td>\n",
       "      <td>3.2</td>\n",
       "      <td>1.3</td>\n",
       "      <td>0.2</td>\n",
       "      <td>setosa</td>\n",
       "    </tr>\n",
       "    <tr>\n",
       "      <th>3</th>\n",
       "      <td>4.6</td>\n",
       "      <td>3.1</td>\n",
       "      <td>1.5</td>\n",
       "      <td>0.2</td>\n",
       "      <td>setosa</td>\n",
       "    </tr>\n",
       "    <tr>\n",
       "      <th>4</th>\n",
       "      <td>5.0</td>\n",
       "      <td>3.6</td>\n",
       "      <td>1.4</td>\n",
       "      <td>0.2</td>\n",
       "      <td>setosa</td>\n",
       "    </tr>\n",
       "  </tbody>\n",
       "</table>\n",
       "</div>"
      ],
      "text/plain": [
       "   sepal_length  sepal_width  petal_length  petal_width species\n",
       "0           5.1          3.5           1.4          0.2  setosa\n",
       "1           4.9          3.0           1.4          0.2  setosa\n",
       "2           4.7          3.2           1.3          0.2  setosa\n",
       "3           4.6          3.1           1.5          0.2  setosa\n",
       "4           5.0          3.6           1.4          0.2  setosa"
      ]
     },
     "execution_count": 25,
     "metadata": {},
     "output_type": "execute_result"
    }
   ],
   "source": [
    "iris = sns.load_dataset('iris')\n",
    "iris.head()"
   ]
  },
  {
   "cell_type": "code",
   "execution_count": 26,
   "metadata": {},
   "outputs": [],
   "source": [
    "labels = iris['species'].unique()\n",
    "X = iris[['sepal_length', 'sepal_width', 'petal_length', 'petal_width']]\n",
    "y = iris['species']\n",
    "X_train, X_test, y_train, y_test = train_test_split(X, y, test_size=0.30, random_state=42)"
   ]
  },
  {
   "cell_type": "code",
   "execution_count": 27,
   "metadata": {},
   "outputs": [
    {
     "name": "stdout",
     "output_type": "stream",
     "text": [
      "Model Accuracy Score testing: 95.55555555555556 %\n"
     ]
    }
   ],
   "source": [
    "#the one versus rest model for logistic classification\n",
    "model = LogisticRegression(multi_class='ovr')\n",
    "model.fit(X_train, y_train)\n",
    "y_pred = model.predict(X_test)\n",
    "print('Model Accuracy Score testing:',accuracy_score(y_test, y_pred)*100,'%')"
   ]
  },
  {
   "cell_type": "code",
   "execution_count": 28,
   "metadata": {},
   "outputs": [
    {
     "name": "stdout",
     "output_type": "stream",
     "text": [
      "Model Accuracy Score testing: 95.55555555555556 %\n"
     ]
    }
   ],
   "source": [
    "#the one versus one model for SVM classification\n",
    "model = SVC(decision_function_shape='ovo')\n",
    "model.fit(X, y)\n",
    "ypred = model.predict(X)\n",
    "print('Model Accuracy Score testing:',accuracy_score(y_test, y_pred)*100,'%')"
   ]
  },
  {
   "cell_type": "code",
   "execution_count": 29,
   "metadata": {},
   "outputs": [],
   "source": [
    "#determine true or false for each primary classifier\n",
    "for k in labels:\n",
    "    iris[k] = (iris['species'] == k)*1"
   ]
  },
  {
   "cell_type": "code",
   "execution_count": 30,
   "metadata": {},
   "outputs": [
    {
     "name": "stdout",
     "output_type": "stream",
     "text": [
      "primary classifier: versicolor\n",
      "Model Accuracy Score testing: 93.33333333333333 %\n"
     ]
    }
   ],
   "source": [
    "#one vs all classifier finds best classifier and uses that one.\n",
    "argmax = 0\n",
    "primary = ''\n",
    "for x in labels:\n",
    "    X = iris[['sepal_length', 'sepal_width', 'petal_length', 'petal_width']]\n",
    "    y = iris[x]\n",
    "    X_train, X_test, y_train, y_test = train_test_split(X, y, test_size=0.30, random_state=20)\n",
    "    model.fit(X_train, y_train)\n",
    "    pred = model.predict(X_test)\n",
    "    arg = sum(pred) / len(pred)\n",
    "    if arg > argmax:\n",
    "        argmax = arg\n",
    "        primary = x\n",
    "        y_pred = pred\n",
    "        test = y_test\n",
    "print(\"primary classifier:\", primary)\n",
    "print('Model Accuracy Score testing:',accuracy_score(test, y_pred)*100,'%')"
   ]
  },
  {
   "cell_type": "code",
   "execution_count": 31,
   "metadata": {},
   "outputs": [
    {
     "name": "stdout",
     "output_type": "stream",
     "text": [
      "primary classifier: setosa\n",
      "Model Accuracy Score testing: 100.0 %\n"
     ]
    }
   ],
   "source": [
    "#split data into seperate one vs one classifiers\n",
    "argmax = 0\n",
    "primary = ''\n",
    "for x in range(len(labels)):\n",
    "    if (x+1 >= len(labels)):\n",
    "        iris_c = iris[iris['species'] != labels[x+1 - len(labels)]]\n",
    "    else:\n",
    "        iris_c = iris[iris['species'] != labels[x+1]]\n",
    "    X = iris_c[['sepal_length', 'sepal_width', 'petal_length', 'petal_width']]\n",
    "    y = iris_c[labels[x]]\n",
    "    X_train, X_test, y_train, y_test = train_test_split(X, y, test_size=0.30, random_state=20)\n",
    "\n",
    "    model.fit(X_train, y_train)\n",
    "    pred = model.predict(X_test)\n",
    "    arg = sum(pred) / len(pred)\n",
    "    if arg > argmax:\n",
    "        argmax = arg\n",
    "        primary = labels[x]\n",
    "        predmod = pred\n",
    "        \n",
    "X = iris[['sepal_length', 'sepal_width', 'petal_length', 'petal_width']]\n",
    "y = iris[primary]\n",
    "X_train, X_test, y_train, y_test = train_test_split(X, y, test_size=0.30, random_state=20)\n",
    "model.fit(X_train, y_train)\n",
    "y_pred = model.predict(X_test)\n",
    "print(\"primary classifier:\", primary)\n",
    "print('Model Accuracy Score testing:',accuracy_score(y_test, y_pred)*100,'%')"
   ]
  },
  {
   "cell_type": "markdown",
   "metadata": {
    "id": "nLIV9y6U6Ip_"
   },
   "source": [
    "Question 5 (20 points): Extensively describe the overfitting and underfitting problem. Use execution examples with decision tree and SVM (with and without kernels and their parameters). You can use the scikit implementations of decision tree and svm."
   ]
  },
  {
   "cell_type": "code",
   "execution_count": 32,
   "metadata": {},
   "outputs": [],
   "source": [
    "from sklearn import tree\n",
    "from sklearn.model_selection import GridSearchCV"
   ]
  },
  {
   "cell_type": "code",
   "execution_count": 35,
   "metadata": {},
   "outputs": [],
   "source": [
    "X_train, X_test, y_train, y_test = train_test_split(X, y, test_size=0.99, random_state=42)"
   ]
  },
  {
   "cell_type": "markdown",
   "metadata": {},
   "source": [
    "Overfitting is an issue when the model is trained too accuratly to the training data and results in poor predictions on future data. This is because the model as fit too close to the training data, but the data is not entirely representative of the test data or the whole population. This can happen when using a descision tree since it is very flexible. The tree below is an example of overfitting as there are fewer samples in the training data, so the accuracy will trend downward because the tree will fit closer to the training set."
   ]
  },
  {
   "cell_type": "code",
   "execution_count": 36,
   "metadata": {},
   "outputs": [
    {
     "name": "stdout",
     "output_type": "stream",
     "text": [
      "Model Accuracy Score training: 100.0 %\n",
      "Model Accuracy Score testing: 66.44295302013423 %\n"
     ]
    }
   ],
   "source": [
    "clf = tree.DecisionTreeClassifier()\n",
    "clf.fit(X_train, y_train)\n",
    "y_pred = clf.predict(X_train)\n",
    "print('Model Accuracy Score training:',accuracy_score(y_train, y_pred)*100,'%')\n",
    "y_pred = clf.predict(X_test)\n",
    "print('Model Accuracy Score testing:',accuracy_score(y_test, y_pred)*100,'%')"
   ]
  },
  {
   "cell_type": "markdown",
   "metadata": {},
   "source": [
    "Underfitting is the issue of an inaccurate model that will most likely predict future data incorrectly and even training data since it has not been tuned well."
   ]
  },
  {
   "cell_type": "code",
   "execution_count": 37,
   "metadata": {},
   "outputs": [],
   "source": [
    "X_train, X_test, y_train, y_test = train_test_split(X, y, test_size=0.80, random_state=60)"
   ]
  },
  {
   "cell_type": "code",
   "execution_count": 38,
   "metadata": {},
   "outputs": [
    {
     "name": "stdout",
     "output_type": "stream",
     "text": [
      "Model Accuracy Score training: 73.33333333333333 %\n",
      "Model Accuracy Score testing: 100.0 %\n"
     ]
    }
   ],
   "source": [
    "model = SVC()\n",
    "model.fit(X_train, y_train)\n",
    "y_pred = clf.predict(X_train)\n",
    "print('Model Accuracy Score training:',accuracy_score(y_train, y_pred)*100,'%')\n",
    "y_pred = model.predict(X_test)\n",
    "print('Model Accuracy Score testing:',accuracy_score(y_test, y_pred)*100,'%')"
   ]
  },
  {
   "cell_type": "markdown",
   "metadata": {
    "id": "gyKveB277jai"
   },
   "source": [
    "Question 6 (10 points): Show examples or situations when the use of kernel procedure is more efficient in terms of training and prediction computational time w.r.t polynomial features transformation."
   ]
  },
  {
   "cell_type": "markdown",
   "metadata": {},
   "source": [
    "The kernal procedure is used to simplify data transformation when the data is not linearly seperable as shown below. Also below is an example using the kernal procedure to fit the iris data. Since the data is not easily seperable the kernal can create higher accuracy."
   ]
  },
  {
   "cell_type": "code",
   "execution_count": 39,
   "metadata": {},
   "outputs": [
    {
     "data": {
      "text/plain": [
       "<seaborn.axisgrid.FacetGrid at 0x192a1d24370>"
      ]
     },
     "execution_count": 39,
     "metadata": {},
     "output_type": "execute_result"
    },
    {
     "data": {
      "image/png": "[encoded data removed]",
      "text/plain": [
       "<Figure size 516.75x432 with 1 Axes>"
      ]
     },
     "metadata": {
      "needs_background": "light"
     },
     "output_type": "display_data"
    }
   ],
   "source": [
    "sns.FacetGrid(iris, hue =\"species\", height = 6).map(plt.scatter, 'sepal_length','sepal_width').add_legend()"
   ]
  },
  {
   "cell_type": "code",
   "execution_count": 40,
   "metadata": {},
   "outputs": [
    {
     "name": "stdout",
     "output_type": "stream",
     "text": [
      "Accuracy: 100.0 %\n",
      "Accuracy Kernal: 100.0 %\n"
     ]
    }
   ],
   "source": [
    "X_train, X_test, y_train, y_test = train_test_split(X, y, random_state=1, test_size=0.8)\n",
    "\n",
    "svc = SVC()\n",
    "svc.fit(X_train, y_train)\n",
    "y_pred = svc.predict(X_test)\n",
    "print('Accuracy:', accuracy_score(y_test, y_pred)*100,'%')\n",
    " \n",
    "svc = SVC(kernel='rbf', random_state=1, gamma=0.10, C=10.0)\n",
    "svc.fit(X_train, y_train)\n",
    "y_pred = svc.predict(X_test)\n",
    "print('Accuracy Kernal:', accuracy_score(y_test, y_pred)*100,'%')"
   ]
  },
  {
   "cell_type": "markdown",
   "metadata": {
    "id": "vFspgedv73hN"
   },
   "source": [
    "Question 7 (10 points): Write a procedure to estimate in the SVC classifier (in Scikit) the best kernel (RBF, Polynomial, sigmoid), the best gamma or degree, and the best C. Use the grid search in scikit without implementing it. You approacch shoud determine the best parametters.\n",
    "\n",
    "Use the following reference:\n",
    "https://scikitlearn.org/stable/modules/generated/sklearn.model_selection.GridSearchCV.html#sklearn.model_selection.GridSearchCV\n",
    "https://scikit-learn.org/stable/modules/grid_search.html"
   ]
  },
  {
   "cell_type": "code",
   "execution_count": 41,
   "metadata": {},
   "outputs": [
    {
     "name": "stdout",
     "output_type": "stream",
     "text": [
      "{'C': 0.1, 'degree': 1, 'gamma': 1.0, 'kernel': 'poly'}\n",
      "SVC(C=0.1, degree=1, gamma=1.0, kernel='poly')\n"
     ]
    }
   ],
   "source": [
    "parameters = [{\"kernel\": [\"rbf\", \"poly\", \"sigmoid\"], \"gamma\": [1.0, 0.1 ,.01, 1e-3], \"C\": [0.1, 1, 10, 100, 1000], \n",
    "               \"degree\": [1, 2, 3, 4, 5]}]\n",
    "\n",
    "grid = GridSearchCV(SVC(), parameters, refit=True)\n",
    "grid.fit(X_train, y_train)\n",
    "\n",
    "print(grid.best_params_)\n",
    "print(grid.best_estimator_)\n",
    "grid_pred = grid.predict(X_test)\n"
   ]
  },
  {
   "cell_type": "markdown",
   "metadata": {
    "id": "Qh_1679f8m95"
   },
   "source": [
    "Question 8 (10 points): Create examples to explain the properties and the importance of the following kernels: Graph kernel, String kernel, Sigmoid kernel. Search on the web."
   ]
  },
  {
   "cell_type": "markdown",
   "metadata": {
    "id": "TMUZayjv3mjf"
   },
   "source": [
    "The graph kernal, string kernel, and sigmoid kernel are all different ways to use kernels for comparisons in real modeles. below is an example of using the kernel to idenitify trends on a graph."
   ]
  },
  {
   "cell_type": "code",
   "execution_count": 43,
   "metadata": {},
   "outputs": [
    {
     "data": {
      "text/plain": [
       "[]"
      ]
     },
     "execution_count": 43,
     "metadata": {},
     "output_type": "execute_result"
    },
    {
     "data": {
      "image/png": "[encoded data removed]",
      "text/plain": [
       "<Figure size 1080x360 with 1 Axes>"
      ]
     },
     "metadata": {
      "needs_background": "light"
     },
     "output_type": "display_data"
    }
   ],
   "source": [
    "from sklearn import datasets\n",
    "iris = datasets.load_iris()\n",
    "\n",
    "X = iris.data[:, :2]\n",
    "y = iris.target\n",
    "\n",
    "x_min, x_max = X[:, 0].min() - 1, X[:, 0].max() + 1\n",
    "y_min, y_max = X[:, 1].min() - 1, X[:, 1].max() + 1\n",
    "h = (x_max / x_min)/100\n",
    "xx, yy = np.meshgrid(np.arange(x_min, x_max, h), np.arange(y_min, y_max, h))\n",
    "X_plot = np.c_[xx.ravel(), yy.ravel()]\n",
    "\n",
    "model = SVC(kernel='sigmoid', C=1).fit(X, y)\n",
    "Z = model.predict(X_plot)\n",
    "Z = Z.reshape(xx.shape)\n",
    "\n",
    "## Code for plotting\n",
    "plt.figure(figsize=(15, 5))\n",
    "plt.subplot(121)\n",
    "plt.contourf(xx, yy, Z, alpha=0.3)\n",
    "plt.scatter(X[:, 0], X[:, 1], c=y, cmap=plt.cm.Set1)\n",
    "plt.xlabel('Sepal length')\n",
    "plt.ylabel('Sepal width')\n",
    "plt.xlim(xx.min(), xx.max())\n",
    "plt.title('Classifier with sigmoid kernel')\n",
    "plt.plot()"
   ]
  },
  {
   "cell_type": "code",
   "execution_count": null,
   "metadata": {},
   "outputs": [],
   "source": []
  }
 ],
 "metadata": {
  "colab": {
   "provenance": []
  },
  "kernelspec": {
   "display_name": "Python 3 (ipykernel)",
   "language": "python",
   "name": "python3"
  },
  "language_info": {
   "codemirror_mode": {
    "name": "ipython",
    "version": 3
   },
   "file_extension": ".py",
   "mimetype": "text/x-python",
   "name": "python",
   "nbconvert_exporter": "python",
   "pygments_lexer": "ipython3",
   "version": "3.9.12"
  }
 },
 "nbformat": 4,
 "nbformat_minor": 1
}
